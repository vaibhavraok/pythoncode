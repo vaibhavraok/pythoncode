{
 "cells": [
  {
   "cell_type": "code",
   "execution_count": 1,
   "id": "0d33e80a-6754-4e2e-998e-cde3d6f2972b",
   "metadata": {},
   "outputs": [
    {
     "name": "stdin",
     "output_type": "stream",
     "text": [
      "Enter the elements in stack: abcdef\n"
     ]
    },
    {
     "name": "stdout",
     "output_type": "stream",
     "text": [
      "fedcba"
     ]
    }
   ],
   "source": [
    "#stack\n",
    "str=input(\"Enter the elements in stack:\")\n",
    "s=[]\n",
    "for x in str:\n",
    "    s.append(x)\n",
    "while len(s)>0:\n",
    "    print(s.pop(),end=\"\")"
   ]
  },
  {
   "cell_type": "code",
   "execution_count": 2,
   "id": "8db2b1c7-5e79-43d4-a14d-e682407cd181",
   "metadata": {},
   "outputs": [
    {
     "name": "stdin",
     "output_type": "stream",
     "text": [
      "Enter the elements in stack: hello! world\n"
     ]
    },
    {
     "name": "stdout",
     "output_type": "stream",
     "text": [
      "world hello! "
     ]
    }
   ],
   "source": [
    "str=input(\"Enter the elements in stack:\")\n",
    "s=[]\n",
    "for x in str.split():\n",
    "    s.append(x)\n",
    "while len(s)>0:\n",
    "    print(s.pop(),end=\" \")"
   ]
  },
  {
   "cell_type": "code",
   "execution_count": 3,
   "id": "59f0dbf4-5d03-4a19-9033-a98330c5c126",
   "metadata": {},
   "outputs": [
    {
     "name": "stdin",
     "output_type": "stream",
     "text": [
      " {()()},{({})}\n"
     ]
    },
    {
     "name": "stdout",
     "output_type": "stream",
     "text": [
      "Valid\n"
     ]
    }
   ],
   "source": [
    "#{()()},{({})}\n",
    "s=input()\n",
    "S=[]\n",
    "for x in s:\n",
    "    if x=='{' or x =='[' or x=='(':\n",
    "        S.append(x)\n",
    "    elif (x==')' and S[-1]=='(')  or  (x=='}' and S[-1]=='{')  or (x==']' and S[-1]=='['):\n",
    "            S.pop()\n",
    "    else:\n",
    "        continue\n",
    "if not S :\n",
    "    print(\"Valid\")\n",
    "else:\n",
    "    print(\"invaild\")"
   ]
  },
  {
   "cell_type": "code",
   "execution_count": null,
   "id": "f39f24eb-5f8c-4a2d-a062-b80d1ecd7e35",
   "metadata": {},
   "outputs": [],
   "source": []
  }
 ],
 "metadata": {
  "kernelspec": {
   "display_name": "Python 3 (ipykernel)",
   "language": "python",
   "name": "python3"
  },
  "language_info": {
   "codemirror_mode": {
    "name": "ipython",
    "version": 3
   },
   "file_extension": ".py",
   "mimetype": "text/x-python",
   "name": "python",
   "nbconvert_exporter": "python",
   "pygments_lexer": "ipython3",
   "version": "3.12.3"
  }
 },
 "nbformat": 4,
 "nbformat_minor": 5
}
