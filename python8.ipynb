{
 "cells": [
  {
   "cell_type": "code",
   "execution_count": 3,
   "id": "00bcceea-8e30-4b57-a6be-ae661bc14747",
   "metadata": {},
   "outputs": [
    {
     "name": "stdout",
     "output_type": "stream",
     "text": [
      "[1, 4, 5, 6, 7, 8, 9]\n"
     ]
    }
   ],
   "source": [
    "#insertion sort\n",
    "arr=[5,4,8,1,9,6,7]\n",
    "for i in range(1,len(arr)):\n",
    "    temp=arr[i]\n",
    "    j=i-1\n",
    "    while j>=0 and temp<arr[j]:\n",
    "        arr[j+1]=arr[j]\n",
    "        j-=1\n",
    "    arr[j+1]=temp\n",
    "print(arr)"
   ]
  },
  {
   "cell_type": "code",
   "execution_count": 4,
   "id": "1d67387d-3fd3-44a6-a31c-67fc9e324e10",
   "metadata": {},
   "outputs": [
    {
     "name": "stdout",
     "output_type": "stream",
     "text": [
      "[1, 4, 5, 6, 7, 8, 9]\n"
     ]
    }
   ],
   "source": [
    "#selection sort\n",
    "arr=[5,4,8,1,9,6,7]\n",
    "for i in range(0,len(arr)):\n",
    "    min_idx=i\n",
    "    for j in range(i+1,len(arr)):\n",
    "        if arr[min_idx]>arr[j]:\n",
    "            min_idx=j\n",
    "    temp=arr[i]\n",
    "    arr[i]=arr[min_idx]\n",
    "    arr[min_idx]=temp\n",
    "print(arr)\n"
   ]
  },
  {
   "cell_type": "code",
   "execution_count": 1,
   "id": "cba03b83-9d43-4e4e-bd9f-a42fabe70ae8",
   "metadata": {},
   "outputs": [
    {
     "name": "stdout",
     "output_type": "stream",
     "text": [
      "List is : [1, 6, 22, 33, 44, 45, 55, 56, 76, 86, 97]\n"
     ]
    },
    {
     "name": "stdin",
     "output_type": "stream",
     "text": [
      "Enter the number to find: 6\n"
     ]
    }
   ],
   "source": [
    "#binary search\n",
    "l=[1,33,44,22,6,55,76,86,97,56,45]\n",
    "l.sort()\n",
    "print(\"List is :\",l)\n",
    "key=int(input(\"Enter the number to find:\"))\n",
    "low=l[0]\n",
    "high=len(l)\n",
    "mid=int((low+high)/2)\n",
    "if(key<l[mid]):\n",
    "    if(l[mid]==key):\n",
    "        print(\"Element found at:\",mid)\n",
    "    mid+=1\n",
    "elif(key>l[mid]):\n",
    "    if(l[mid]==key):\n",
    "        print(\"Element found at:\",mid)\n",
    "    mid-=1\n",
    "elif(key==l[mid]):\n",
    "    print(\"Element found at:\",mid)\n",
    "else:\n",
    "    print(\"Element not found\")\n",
    "    "
   ]
  },
  {
   "cell_type": "code",
   "execution_count": 2,
   "id": "6d57adcc-4ab1-4ba6-ade9-34e4b476511e",
   "metadata": {
    "scrolled": true
   },
   "outputs": [
    {
     "name": "stdout",
     "output_type": "stream",
     "text": [
      "List is : [1, 6, 22, 33, 44, 45, 55, 56, 76, 86, 97]\n",
      "11\n"
     ]
    },
    {
     "name": "stdin",
     "output_type": "stream",
     "text": [
      "Enter the number to find: 6\n"
     ]
    },
    {
     "name": "stdout",
     "output_type": "stream",
     "text": [
      "index of element is  1\n",
      "low  0 high 10 mid 5\n",
      "low  0 high 4 mid 2\n",
      "low  0 high 1 mid 0\n",
      "low  1 high 1 mid 1\n",
      "Elemenmt found at 1\n"
     ]
    }
   ],
   "source": [
    "#binary search\n",
    "l=[1,33,44,22,6,55,76,86,97,56,45]\n",
    "l.sort()\n",
    "print(\"List is :\",l)\n",
    "print(len(l))\n",
    "low=0\n",
    "high=len(l)-1\n",
    "src=int(input(\"Enter the number to find:\"))\n",
    "flag=0\n",
    "print(\"index of element is \",l.index(src))\n",
    "#try:\n",
    "#   print(\"index of element is \",l.index(src))\n",
    "#except:\n",
    "#   print(\"Item not in list\")\n",
    "while low<=high:\n",
    "    mid=int((low+high)/2)\n",
    "    print(\"low \",low,\"high\",high,\"mid\",mid)\n",
    "    if(src<l[mid]):\n",
    "        high=mid-1\n",
    "    elif src>l[mid]:\n",
    "        low=mid+1\n",
    "    else:\n",
    "        flag=1\n",
    "        break;\n",
    "if flag==1:\n",
    "    print(\"Elemenmt found at\",mid)\n",
    "else:\n",
    "    print(\"Element not found\")"
   ]
  },
  {
   "cell_type": "code",
   "execution_count": 7,
   "id": "57cd4fe5-f641-4a91-8078-6f44cc3d4282",
   "metadata": {},
   "outputs": [
    {
     "name": "stdin",
     "output_type": "stream",
     "text": [
      "Enter the string  hi(hello)\n"
     ]
    },
    {
     "name": "stdout",
     "output_type": "stream",
     "text": [
      "hi(hello)\n",
      "valid string\n"
     ]
    }
   ],
   "source": [
    "c=input(\"Enter the string \")\n",
    "print(c)\n",
    "x=y=z=0\n",
    "for s in c:\n",
    " match(c):\n",
    "  case '{':x+=1\n",
    "  case '}':x-=1\n",
    "  case '(':y+=1   \n",
    "  case ')':y-=1        \n",
    "  case '[':z+=1\n",
    "  case ']':z-=1\n",
    "  case _:continue\n",
    "if (x==y==z==0):\n",
    "   print(\"valid string\")\n",
    "else:\n",
    "   print(\"valid not astring\")"
   ]
  },
  {
   "cell_type": "code",
   "execution_count": 3,
   "id": "4f94e6d8-9527-4beb-96a6-96b5dc005c91",
   "metadata": {},
   "outputs": [
    {
     "name": "stdin",
     "output_type": "stream",
     "text": [
      "Enter the stack elements: 1 2 3 4 5\n"
     ]
    },
    {
     "name": "stdout",
     "output_type": "stream",
     "text": [
      "[1, 2, 3, 4, 5]\n",
      "[1, 2, 3, 4]\n",
      "4\n",
      "3\n",
      "2\n",
      "1\n"
     ]
    }
   ],
   "source": [
    "stack=list(map(int,input(\"Enter the stack elements:\").split()))\n",
    "print(stack)\n",
    "stack.pop()\n",
    "print(stack)\n",
    "for i in range(len(stack)-1,-1,-1):\n",
    " print(stack[i])"
   ]
  },
  {
   "cell_type": "code",
   "execution_count": null,
   "id": "64acf782-b24b-4947-88d1-48bb56efa785",
   "metadata": {},
   "outputs": [],
   "source": []
  }
 ],
 "metadata": {
  "kernelspec": {
   "display_name": "Python 3 (ipykernel)",
   "language": "python",
   "name": "python3"
  },
  "language_info": {
   "codemirror_mode": {
    "name": "ipython",
    "version": 3
   },
   "file_extension": ".py",
   "mimetype": "text/x-python",
   "name": "python",
   "nbconvert_exporter": "python",
   "pygments_lexer": "ipython3",
   "version": "3.12.3"
  }
 },
 "nbformat": 4,
 "nbformat_minor": 5
}
