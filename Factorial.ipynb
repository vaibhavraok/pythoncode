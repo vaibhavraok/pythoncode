{
 "cells": [
  {
   "cell_type": "code",
   "execution_count": 2,
   "id": "5c7c006d-5e8f-4cf0-a094-cafc877aee9e",
   "metadata": {},
   "outputs": [
    {
     "name": "stdin",
     "output_type": "stream",
     "text": [
      "Enter the number: 5\n"
     ]
    },
    {
     "name": "stdout",
     "output_type": "stream",
     "text": [
      "Factorial of 5 is  120\n"
     ]
    }
   ],
   "source": [
    "#factorial using for loop\n",
    "f=int(input(\"Enter the number:\"))\n",
    "n=1\n",
    "for i in range(f,1,-1):\n",
    "    n=i*n\n",
    "print(\"Factorial of\",f,\"is \",n)"
   ]
  },
  {
   "cell_type": "code",
   "execution_count": 3,
   "id": "8fe96612-a9c5-4672-a619-77d4df71b02e",
   "metadata": {},
   "outputs": [
    {
     "name": "stdin",
     "output_type": "stream",
     "text": [
      "Enter the number: 5\n"
     ]
    },
    {
     "name": "stdout",
     "output_type": "stream",
     "text": [
      "120\n"
     ]
    }
   ],
   "source": [
    "#factorial using recursion\n",
    "def fac(x):\n",
    "    if(x==1 or x==0):\n",
    "        return 1\n",
    "    return x*fac(x-1)\n",
    "\n",
    "x=int(input(\"Enter the number:\"))\n",
    "print(fac(x))"
   ]
  }
 ],
 "metadata": {
  "kernelspec": {
   "display_name": "Python 3 (ipykernel)",
   "language": "python",
   "name": "python3"
  },
  "language_info": {
   "codemirror_mode": {
    "name": "ipython",
    "version": 3
   },
   "file_extension": ".py",
   "mimetype": "text/x-python",
   "name": "python",
   "nbconvert_exporter": "python",
   "pygments_lexer": "ipython3",
   "version": "3.12.3"
  }
 },
 "nbformat": 4,
 "nbformat_minor": 5
}
