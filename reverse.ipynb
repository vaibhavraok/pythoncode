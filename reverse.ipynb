{
 "cells": [
  {
   "cell_type": "code",
   "execution_count": 2,
   "id": "10696b94-7c01-4056-882c-eeb91cfb8e6c",
   "metadata": {},
   "outputs": [
    {
     "name": "stdin",
     "output_type": "stream",
     "text": [
      "Enter number:  123456\n"
     ]
    },
    {
     "name": "stdout",
     "output_type": "stream",
     "text": [
      "Reversed number: 654321\n"
     ]
    }
   ],
   "source": [
    "#reversing a number\n",
    "n=int(input(\"Enter number: \"))\n",
    "s=str(n)[::-1]\n",
    "reverse=int(s)\n",
    "print(f\"Reversed number: {reverse}\")"
   ]
  },
  {
   "cell_type": "code",
   "execution_count": 4,
   "id": "86f86662-85a6-4717-8422-be660c386347",
   "metadata": {},
   "outputs": [
    {
     "name": "stdin",
     "output_type": "stream",
     "text": [
      "Enter str:  hello\n"
     ]
    },
    {
     "name": "stdout",
     "output_type": "stream",
     "text": [
      "Reversed number: olleh\n"
     ]
    }
   ],
   "source": [
    "#reversing a string\n",
    "n=input(\"Enter str: \")\n",
    "s=str(n)[::-1]\n",
    "reverse=(s)\n",
    "print(f\"Reversed number: {reverse}\")"
   ]
  }
 ],
 "metadata": {
  "kernelspec": {
   "display_name": "Python 3 (ipykernel)",
   "language": "python",
   "name": "python3"
  },
  "language_info": {
   "codemirror_mode": {
    "name": "ipython",
    "version": 3
   },
   "file_extension": ".py",
   "mimetype": "text/x-python",
   "name": "python",
   "nbconvert_exporter": "python",
   "pygments_lexer": "ipython3",
   "version": "3.12.3"
  }
 },
 "nbformat": 4,
 "nbformat_minor": 5
}
