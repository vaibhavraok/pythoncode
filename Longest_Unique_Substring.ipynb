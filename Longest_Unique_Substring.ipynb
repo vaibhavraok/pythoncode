{
  "nbformat": 4,
  "nbformat_minor": 0,
  "metadata": {
    "colab": {
      "provenance": [],
      "authorship_tag": "ABX9TyOVESyUxERhj4gtWhjQU+4o"
    },
    "kernelspec": {
      "name": "python3",
      "display_name": "Python 3"
    },
    "language_info": {
      "name": "python"
    }
  },
  "cells": [
    {
      "cell_type": "code",
      "execution_count": 2,
      "metadata": {
        "colab": {
          "base_uri": "https://localhost:8080/"
        },
        "id": "0gSg5OqQ_1tF",
        "outputId": "db148453-c68d-41cb-cd29-95e9efd23740"
      },
      "outputs": [
        {
          "output_type": "stream",
          "name": "stdout",
          "text": [
            "Length of longest Substring\n",
            "3\n"
          ]
        }
      ],
      "source": [
        "def length_of_longest_substring(s: str) -> int:\n",
        "    seen, start, max_len = {}, 0, 0\n",
        "    for i, ch in enumerate(s):\n",
        "        if ch in seen and seen[ch] >= start:\n",
        "            start = seen[ch] + 1\n",
        "        seen[ch] = i\n",
        "        max_len = max(max_len, i - start + 1)\n",
        "    print(\"Length of longest Substring\")\n",
        "    return max_len\n",
        "\n",
        "if __name__ == \"__main__\":\n",
        "    print(length_of_longest_substring(\"abcabcbb\"))  # 3\n"
      ]
    },
    {
      "cell_type": "code",
      "source": [],
      "metadata": {
        "id": "Cw3bsndu_609"
      },
      "execution_count": null,
      "outputs": []
    }
  ]
}