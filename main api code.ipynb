{
 "cells": [
  {
   "cell_type": "code",
   "execution_count": null,
   "id": "7e7aed54-1cad-460d-87d2-49d8aac8661f",
   "metadata": {},
   "outputs": [
    {
     "name": "stdout",
     "output_type": "stream",
     "text": [
      "\n",
      "1. Add API\n",
      "2. Delete API\n",
      "3. Update API\n",
      "4. Display APIs\n",
      "5. Monitor API Response\n",
      "6. Generate Performance Report\n",
      "7. Exit\n"
     ]
    },
    {
     "name": "stdin",
     "output_type": "stream",
     "text": [
      "Enter your choice:  1\n",
      "Enter API ID:  api1\n",
      "Enter API name:  vib\n",
      "Enter API URL:  API1\n"
     ]
    },
    {
     "name": "stdout",
     "output_type": "stream",
     "text": [
      "API api1 added successfully.\n",
      "\n",
      "1. Add API\n",
      "2. Delete API\n",
      "3. Update API\n",
      "4. Display APIs\n",
      "5. Monitor API Response\n",
      "6. Generate Performance Report\n",
      "7. Exit\n"
     ]
    },
    {
     "name": "stdin",
     "output_type": "stream",
     "text": [
      "Enter your choice:  1\n",
      "Enter API ID:  api1\n",
      "Enter API name:  aip1\n",
      "Enter API URL:  http://api.com\n"
     ]
    },
    {
     "name": "stdout",
     "output_type": "stream",
     "text": [
      "API with the same ID already exists!\n",
      "\n",
      "1. Add API\n",
      "2. Delete API\n",
      "3. Update API\n",
      "4. Display APIs\n",
      "5. Monitor API Response\n",
      "6. Generate Performance Report\n",
      "7. Exit\n"
     ]
    },
    {
     "name": "stdin",
     "output_type": "stream",
     "text": [
      "Enter your choice:  1\n",
      "Enter API ID:  api2\n",
      "Enter API name:  API2\n",
      "Enter API URL:  http://API2.com\n"
     ]
    },
    {
     "name": "stdout",
     "output_type": "stream",
     "text": [
      "API api2 added successfully.\n",
      "\n",
      "1. Add API\n",
      "2. Delete API\n",
      "3. Update API\n",
      "4. Display APIs\n",
      "5. Monitor API Response\n",
      "6. Generate Performance Report\n",
      "7. Exit\n"
     ]
    },
    {
     "name": "stdin",
     "output_type": "stream",
     "text": [
      "Enter your choice:  4\n"
     ]
    },
    {
     "name": "stdout",
     "output_type": "stream",
     "text": [
      "List of APIs:\n",
      "API ID: api1, Name: vib, URL: API1\n",
      "API ID: api2, Name: API2, URL: http://API2.com\n",
      "\n",
      "1. Add API\n",
      "2. Delete API\n",
      "3. Update API\n",
      "4. Display APIs\n",
      "5. Monitor API Response\n",
      "6. Generate Performance Report\n",
      "7. Exit\n"
     ]
    },
    {
     "name": "stdin",
     "output_type": "stream",
     "text": [
      "Enter your choice:  3\n",
      "Enter API ID to update:  api1\n",
      "Enter updated API name (press Enter to skip):  API1\n",
      "Enter updated API URL (press Enter to skip):  https://api1.com\n"
     ]
    },
    {
     "name": "stdout",
     "output_type": "stream",
     "text": [
      "API api1 updated successfully.\n",
      "\n",
      "1. Add API\n",
      "2. Delete API\n",
      "3. Update API\n",
      "4. Display APIs\n",
      "5. Monitor API Response\n",
      "6. Generate Performance Report\n",
      "7. Exit\n"
     ]
    },
    {
     "name": "stdin",
     "output_type": "stream",
     "text": [
      "Enter your choice:  4\n"
     ]
    },
    {
     "name": "stdout",
     "output_type": "stream",
     "text": [
      "List of APIs:\n",
      "API ID: api1, Name: API1, URL: https://api1.com\n",
      "API ID: api2, Name: API2, URL: http://API2.com\n",
      "\n",
      "1. Add API\n",
      "2. Delete API\n",
      "3. Update API\n",
      "4. Display APIs\n",
      "5. Monitor API Response\n",
      "6. Generate Performance Report\n",
      "7. Exit\n"
     ]
    },
    {
     "name": "stdin",
     "output_type": "stream",
     "text": [
      "Enter your choice:  5\n",
      "Enter API ID to monitor response:  Aapi1\n",
      "Enter response time:  100\n"
     ]
    },
    {
     "name": "stdout",
     "output_type": "stream",
     "text": [
      "API does not exist!\n",
      "\n",
      "1. Add API\n",
      "2. Delete API\n",
      "3. Update API\n",
      "4. Display APIs\n",
      "5. Monitor API Response\n",
      "6. Generate Performance Report\n",
      "7. Exit\n"
     ]
    },
    {
     "name": "stdin",
     "output_type": "stream",
     "text": [
      "Enter your choice:  5\n",
      "Enter API ID to monitor response:  api1\n",
      "Enter response time:  110\n"
     ]
    },
    {
     "name": "stdout",
     "output_type": "stream",
     "text": [
      "\n",
      "1. Add API\n",
      "2. Delete API\n",
      "3. Update API\n",
      "4. Display APIs\n",
      "5. Monitor API Response\n",
      "6. Generate Performance Report\n",
      "7. Exit\n"
     ]
    },
    {
     "name": "stdin",
     "output_type": "stream",
     "text": [
      "Enter your choice:  4\n"
     ]
    },
    {
     "name": "stdout",
     "output_type": "stream",
     "text": [
      "List of APIs:\n",
      "API ID: api1, Name: API1, URL: https://api1.com\n",
      "API ID: api2, Name: API2, URL: http://API2.com\n",
      "\n",
      "1. Add API\n",
      "2. Delete API\n",
      "3. Update API\n",
      "4. Display APIs\n",
      "5. Monitor API Response\n",
      "6. Generate Performance Report\n",
      "7. Exit\n"
     ]
    },
    {
     "name": "stdin",
     "output_type": "stream",
     "text": [
      "Enter your choice:  5\n",
      "Enter API ID to monitor response:  api2\n",
      "Enter response time:  200\n"
     ]
    },
    {
     "name": "stdout",
     "output_type": "stream",
     "text": [
      "\n",
      "1. Add API\n",
      "2. Delete API\n",
      "3. Update API\n",
      "4. Display APIs\n",
      "5. Monitor API Response\n",
      "6. Generate Performance Report\n",
      "7. Exit\n"
     ]
    },
    {
     "name": "stdin",
     "output_type": "stream",
     "text": [
      "Enter your choice:  6\n",
      "Enter report ID:  6\n"
     ]
    },
    {
     "name": "stdout",
     "output_type": "stream",
     "text": [
      "Performance Report 6:\n",
      "API ID: api1\n",
      "Name: API1\n",
      "URL: https://api1.com\n",
      "Average Response Time: 110.0 ms\n",
      "\n",
      "API ID: api2\n",
      "Name: API2\n",
      "URL: http://API2.com\n",
      "Average Response Time: 200.0 ms\n",
      "\n",
      "\n",
      "\n",
      "1. Add API\n",
      "2. Delete API\n",
      "3. Update API\n",
      "4. Display APIs\n",
      "5. Monitor API Response\n",
      "6. Generate Performance Report\n",
      "7. Exit\n"
     ]
    }
   ],
   "source": [
    "class APIMetrics:\n",
    "    def __init__(self, api_id, name, url):\n",
    "        self.api_id = api_id\n",
    "        self.name = name\n",
    "        self.url = url\n",
    "        self.response_times = []\n",
    "\n",
    "    def add_response_time(self, response_time):\n",
    "        if isinstance(response_time, (int, float)) and response_time >= 0:\n",
    "            self.response_times.append(response_time)\n",
    "        else:\n",
    "            print(\"Invalid response time. Response time should be a non-negative number.\")\n",
    "\n",
    "    def get_average_response_time(self):\n",
    "        if self.response_times:\n",
    "            return sum(self.response_times) / len(self.response_times)\n",
    "        else:\n",
    "            return 0\n",
    "\n",
    "\n",
    "class PerformanceTracker:\n",
    "    def __init__(self):\n",
    "        self.apis = []\n",
    "\n",
    "    def add_api(self, api_id, name, url):\n",
    "        for api in self.apis:\n",
    "            if api_id == api.api_id:\n",
    "                print(\"API with the same ID already exists!\")\n",
    "                return\n",
    "        self.apis.append(APIMetrics(api_id, name, url))\n",
    "        print(f\"API {api_id} added successfully.\")\n",
    "\n",
    "    def delete_api(self, api_id):\n",
    "        for api in self.apis:\n",
    "            if api_id == api.api_id:\n",
    "                self.apis.remove(api)\n",
    "                print(f\"API {api_id} deleted successfully.\")\n",
    "                return\n",
    "        print(\"API does not exist!\")\n",
    "\n",
    "    def update_api(self, api_id, name=None, url=None):\n",
    "        for api in self.apis:+-\n",
    "            if api_id == api.api_id:\n",
    "                if name:\n",
    "                    api.name = name\n",
    "                if url:\n",
    "                    api.url = url\n",
    "                print(f\"API {api_id} updated successfully.\")\n",
    "                return\n",
    "        print(\"API does not exist!\")\n",
    "\n",
    "    def display_apis(self):\n",
    "        if not self.apis:\n",
    "            print(\"No APIs to display.\")\n",
    "            return\n",
    "        print(\"List of APIs:\")\n",
    "        for api in self.apis:\n",
    "            print(f\"API ID: {api.api_id}, Name: {api.name}, URL: {api.url}\")\n",
    "\n",
    "    def monitor_api_responses(self, api_id, response_time):\n",
    "        for api in self.apis:\n",
    "            if api_id == api.api_id:\n",
    "                api.add_response_time(response_time)\n",
    "                return\n",
    "        print(\"API does not exist!\")\n",
    "\n",
    "    def generate_performance_report(self, report_id):\n",
    "        report = f\"Performance Report {report_id}:\\n\"\n",
    "        for api in self.apis:\n",
    "            report += f\"API ID: {api.api_id}\\n\"\n",
    "            report += f\"Name: {api.name}\\n\"\n",
    "            report += f\"URL: {api.url}\\n\"\n",
    "            report += f\"Average Response Time: {api.get_average_response_time()} ms\\n\\n\"\n",
    "        return report\n",
    "\n",
    "\n",
    "def main():\n",
    "    tracker = PerformanceTracker()\n",
    "\n",
    "    while True:\n",
    "        print(\"\\n1. Add API\\n2. Delete API\\n3. Update API\\n4. Display APIs\\n5. Monitor API Response\\n6. Generate Performance Report\\n7. Exit\")\n",
    "        choice = input(\"Enter your choice: \")\n",
    "\n",
    "        if choice == '1':\n",
    "            api_id = input(\"Enter API ID: \")\n",
    "            name = input(\"Enter API name: \")\n",
    "            url = input(\"Enter API URL: \")\n",
    "            tracker.add_api(api_id, name, url)\n",
    "        elif choice == '2':\n",
    "            api_id = input(\"Enter API ID to delete: \")\n",
    "            tracker.delete_api(api_id)\n",
    "        elif choice == '3':\n",
    "            api_id = input(\"Enter API ID to update: \")\n",
    "            name = input(\"Enter updated API name (press Enter to skip): \")\n",
    "            url = input(\"Enter updated API URL (press Enter to skip): \")\n",
    "            tracker.update_api(api_id, name, url)\n",
    "        elif choice == '4':\n",
    "            tracker.display_apis()\n",
    "        elif choice == '5':\n",
    "            api_id = input(\"Enter API ID to monitor response: \")\n",
    "            response_time = float(input(\"Enter response time: \"))\n",
    "            tracker.monitor_api_responses(api_id, response_time)\n",
    "        elif choice == '6':\n",
    "            report_id = input(\"Enter report ID: \")\n",
    "            report = tracker.generate_performance_report(report_id)\n",
    "            print(report)\n",
    "        elif choice == '7':\n",
    "            print(\"Exiting...\")\n",
    "            break\n",
    "        else:\n",
    "            print(\"Invalid choice. Please enter a valid option.\")\n",
    "\n",
    "\n",
    "if __name__ == \"__main__\":\n",
    "    main()\n"
   ]
  },
  {
   "cell_type": "code",
   "execution_count": null,
   "id": "ad2ee2b9-8006-4d4e-bada-c5e6c9783766",
   "metadata": {},
   "outputs": [],
   "source": []
  }
 ],
 "metadata": {
  "kernelspec": {
   "display_name": "Python 3 (ipykernel)",
   "language": "python",
   "name": "python3"
  },
  "language_info": {
   "codemirror_mode": {
    "name": "ipython",
    "version": 3
   },
   "file_extension": ".py",
   "mimetype": "text/x-python",
   "name": "python",
   "nbconvert_exporter": "python",
   "pygments_lexer": "ipython3",
   "version": "3.12.3"
  }
 },
 "nbformat": 4,
 "nbformat_minor": 5
}
