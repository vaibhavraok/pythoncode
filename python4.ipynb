{
 "cells": [
  {
   "cell_type": "code",
   "execution_count": null,
   "id": "a7c2e330-4c53-4407-9789-f1c484ba7f61",
   "metadata": {},
   "outputs": [],
   "source": [
    "#Convert a temperature from Celsius to Fahrenheit.\n",
    "c=float(input(\"Enter the celsius temperature\"))\n",
    "F = (9/5 * c) + 32\n",
    "print(\"The celsius is:\",c)\n",
    "print(\"The fahrenheit is:\",F)"
   ]
  },
  {
   "cell_type": "code",
   "execution_count": 4,
   "id": "177468e3-42d7-4223-b17a-a6ec77011c9b",
   "metadata": {},
   "outputs": [
    {
     "name": "stdout",
     "output_type": "stream",
     "text": [
      "89\n"
     ]
    }
   ],
   "source": [
    "#Find the second largest element in a list.\n",
    "l=[12,23,45,67,89,44,55,88,99,]\n",
    "l.sort()\n",
    "print(l[-2])"
   ]
  },
  {
   "cell_type": "code",
   "execution_count": 3,
   "id": "52e9d8c1-9469-4f83-890f-dca7c37318f5",
   "metadata": {},
   "outputs": [
    {
     "name": "stdin",
     "output_type": "stream",
     "text": [
      "Enter the text: vaibhav\n"
     ]
    },
    {
     "name": "stdout",
     "output_type": "stream",
     "text": [
      "number of vowels in the string : 3\n"
     ]
    }
   ],
   "source": [
    "#count the number of vowels in a string.\n",
    "\n",
    "text=input(\"Enter the text:\")\n",
    "count=0\n",
    "for char in text:\n",
    "  if(char in\"aAeEiIoOuU\"):\n",
    "     count+=1\n",
    "print(\"number of vowels in the string :\",count)"
   ]
  },
  {
   "cell_type": "code",
   "execution_count": 12,
   "id": "c6955a69-a5e6-49ac-ad87-ebef11ad6096",
   "metadata": {},
   "outputs": [
    {
     "name": "stdout",
     "output_type": "stream",
     "text": [
      "2\n"
     ]
    }
   ],
   "source": [
    "#count the occurrences of each element in a list.\n",
    "\n",
    "num=[1,2,3,4,5,6,7,7,33,77,10]\n",
    "count=num.count(7)\n",
    "print(count)"
   ]
  },
  {
   "cell_type": "code",
   "execution_count": 19,
   "id": "14517c10-b342-4f7a-9986-8d5d75d83620",
   "metadata": {},
   "outputs": [
    {
     "name": "stdout",
     "output_type": "stream",
     "text": [
      "sum of all even numbers: 6\n"
     ]
    }
   ],
   "source": [
    "#find the sum of all even numbers in a list.\n",
    "\n",
    "num=[1,2,3,4,5]\n",
    "v=0\n",
    "for n in num :\n",
    "      if n % 2== 0:\n",
    "         v+=n\n",
    "print(\"sum of all even numbers:\",v)"
   ]
  },
  {
   "cell_type": "code",
   "execution_count": 21,
   "id": "fcd24c8c-bc9c-49dd-a90f-de8d2f75db43",
   "metadata": {},
   "outputs": [
    {
     "name": "stdout",
     "output_type": "stream",
     "text": [
      "Reverse of text is: dlrow !0lleh\n"
     ]
    }
   ],
   "source": [
    "#Reverse the words in a given sentence.\n",
    "str=\"hell0! world\"\n",
    "new=str[::-1]\n",
    "print(\"Reverse of text is:\",new)"
   ]
  },
  {
   "cell_type": "code",
   "execution_count": null,
   "id": "230c4bc7-f068-489b-88ef-f789f82858c7",
   "metadata": {},
   "outputs": [],
   "source": []
  }
 ],
 "metadata": {
  "kernelspec": {
   "display_name": "Python 3 (ipykernel)",
   "language": "python",
   "name": "python3"
  },
  "language_info": {
   "codemirror_mode": {
    "name": "ipython",
    "version": 3
   },
   "file_extension": ".py",
   "mimetype": "text/x-python",
   "name": "python",
   "nbconvert_exporter": "python",
   "pygments_lexer": "ipython3",
   "version": "3.12.3"
  }
 },
 "nbformat": 4,
 "nbformat_minor": 5
}
