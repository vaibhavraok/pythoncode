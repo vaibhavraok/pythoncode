{
 "cells": [
  {
   "cell_type": "code",
   "execution_count": 1,
   "id": "46c7e845-892a-4528-981a-bc2db57c0da0",
   "metadata": {},
   "outputs": [
    {
     "name": "stdin",
     "output_type": "stream",
     "text": [
      "Enter character:  A\n"
     ]
    },
    {
     "name": "stdout",
     "output_type": "stream",
     "text": [
      "UpperCase\n"
     ]
    }
   ],
   "source": [
    "#to find the character is uppercase or lowercase\n",
    "ch=input(\"Enter character: \")\n",
    "if ch.isalpha():\n",
    "    if ch.islower():\n",
    "        print(\"LowerCase\")\n",
    "    else:\n",
    "        print(\"UpperCase\")\n",
    "elif ch.isdigit():\n",
    "    print(\"Numeric\")\n",
    "else:\n",
    "    print(\"Special Character\")"
   ]
  }
 ],
 "metadata": {
  "kernelspec": {
   "display_name": "Python 3 (ipykernel)",
   "language": "python",
   "name": "python3"
  },
  "language_info": {
   "codemirror_mode": {
    "name": "ipython",
    "version": 3
   },
   "file_extension": ".py",
   "mimetype": "text/x-python",
   "name": "python",
   "nbconvert_exporter": "python",
   "pygments_lexer": "ipython3",
   "version": "3.12.3"
  }
 },
 "nbformat": 4,
 "nbformat_minor": 5
}
