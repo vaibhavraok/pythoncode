{
 "cells": [
  {
   "cell_type": "code",
   "execution_count": 20,
   "id": "1899be3b-a909-43e7-bb2b-e5c5197c37fc",
   "metadata": {},
   "outputs": [
    {
     "name": "stdout",
     "output_type": "stream",
     "text": [
      "The maximum sum of any 3 consecutive elements of this array: 19\n"
     ]
    }
   ],
   "source": [
    "L=[2,4,6,1,3,7,4,6,9,3,6,8,3,6,4,1,3,9,6,4,5,6,8,3,7,3,6,8]\n",
    "#Find the maximum sum of any 3 consecutive elements of this array.\n",
    "Max =0\n",
    "for i in range(0,len(L)-2):\n",
    "    Sum=L[i]+L[i+1]+L[i+2]\n",
    "    if Max<Sum:\n",
    "        Max=Sum\n",
    "         \n",
    "print(\"The maximum sum of any 3 consecutive elements of this array:\",Max)"
   ]
  },
  {
   "cell_type": "code",
   "execution_count": 6,
   "id": "f29c44de-54e2-4acc-896f-358d3af81d19",
   "metadata": {},
   "outputs": [
    {
     "name": "stdin",
     "output_type": "stream",
     "text": [
      "Enter the consecutive number: 4\n"
     ]
    },
    {
     "name": "stdout",
     "output_type": "stream",
     "text": [
      "The maximum sum of any 3 consecutive elements of this array: 26\n",
      "Length of the list is : 64\n"
     ]
    }
   ],
   "source": [
    "L=[2,4,6,1,3,7,4,6,9,3,6,8,3,6,4,1,3,9,6,4,5,6,8,3,7,3,6,8,6,4,1,3,9,6,4,5,6,6,4,1,3,9,6,4,5,6,6,4,1,3,9,6,4,5,6,6,4,1,3,9,6,4,5,6]\n",
    "#Find the maximum sum of any n consecutive elements of this array.\n",
    "Max =0\n",
    "n=int(input(\"Enter the consecutive number:\"))\n",
    "for i in range(0,len(L)-(n-1)):\n",
    "    s=0\n",
    "    for j in range (0,n):\n",
    "      s=s+L[i+j]\n",
    "    if Max<s:\n",
    "        Max=s\n",
    "         \n",
    "print(\"The maximum sum of any 3 consecutive elements of this array:\",Max)\n",
    "print(\"Length of the list is :\",len(L))"
   ]
  },
  {
   "cell_type": "code",
   "execution_count": 9,
   "id": "6802cad1-85dd-4dd8-ae3d-9be02b0aa124",
   "metadata": {},
   "outputs": [
    {
     "name": "stdin",
     "output_type": "stream",
     "text": [
      "Enter the consecutive number: 4\n"
     ]
    },
    {
     "name": "stdout",
     "output_type": "stream",
     "text": [
      "The maximum sum of consecutive elements of this array: 9\n",
      "Length of the list is : 64\n"
     ]
    }
   ],
   "source": [
    "L=[2,4,6,1,3,7,4,6,9,3,6,8,3,6,4,1,3,9,6,4,5,6,8,3,7,3,6,8,6,4,1,3,9,6,4,5,6,6,4,1,3,9,6,4,5,6,6,4,1,3,9,6,4,5,6,6,4,1,3,9,6,4,5,6]\n",
    "#Find the maximum sum of any n consecutive elements of this array.\n",
    "Max =0\n",
    "m=0\n",
    "n=int(input(\"Enter the consecutive number:\"))\n",
    "for i in range(0,len(L)-(n-1)):\n",
    "    s=0\n",
    "    s=s+L[m+i]\n",
    "    if Max<s:\n",
    "        Max=s\n",
    "         \n",
    "print(\"The maximum sum of consecutive elements of this array:\",Max)\n",
    "print(\"Length of the list is :\",len(L))"
   ]
  },
  {
   "cell_type": "code",
   "execution_count": 1,
   "id": "696342aa-a21f-41e8-b7d7-446c0134e247",
   "metadata": {},
   "outputs": [
    {
     "name": "stdout",
     "output_type": "stream",
     "text": [
      "[1, 1, 2, 3, 3, 4, 5, 5, 5, 6, 9]\n"
     ]
    }
   ],
   "source": [
    "n = [3, 1, 4, 1, 5, 9, 2, 6, 5, 3, 5]\n",
    "for i in range(len(n)):\n",
    "        for j in range(len(n)-1):\n",
    "            if n[j] > n[j+1]:\n",
    "              n[j], n[j+1]=n[j+1],n[j]\n",
    "print(n)"
   ]
  }
 ],
 "metadata": {
  "kernelspec": {
   "display_name": "Python 3 (ipykernel)",
   "language": "python",
   "name": "python3"
  },
  "language_info": {
   "codemirror_mode": {
    "name": "ipython",
    "version": 3
   },
   "file_extension": ".py",
   "mimetype": "text/x-python",
   "name": "python",
   "nbconvert_exporter": "python",
   "pygments_lexer": "ipython3",
   "version": "3.12.3"
  }
 },
 "nbformat": 4,
 "nbformat_minor": 5
}
