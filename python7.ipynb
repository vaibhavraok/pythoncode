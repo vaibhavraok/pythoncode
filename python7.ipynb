{
 "cells": [
  {
   "cell_type": "code",
   "execution_count": 20,
   "id": "1899be3b-a909-43e7-bb2b-e5c5197c37fc",
   "metadata": {},
   "outputs": [
    {
     "name": "stdout",
     "output_type": "stream",
     "text": [
      "The maximum sum of any 3 consecutive elements of this array: 19\n"
     ]
    }
   ],
   "source": [
    "L=[2,4,6,1,3,7,4,6,9,3,6,8,3,6,4,1,3,9,6,4,5,6,8,3,7,3,6,8]\n",
    "#Find the maximum sum of any 3 consecutive elements of this array.\n",
    "Max =0\n",
    "for i in range(0,len(L)-2):\n",
    "    Sum=L[i]+L[i+1]+L[i+2]\n",
    "    if Max<Sum:\n",
    "        Max=Sum\n",
    "         \n",
    "print(\"The maximum sum of any 3 consecutive elements of this array:\",Max)"
   ]
  },
  {
   "cell_type": "code",
   "execution_count": 6,
   "id": "f29c44de-54e2-4acc-896f-358d3af81d19",
   "metadata": {},
   "outputs": [
    {
     "name": "stdin",
     "output_type": "stream",
     "text": [
      "Enter the consecutive number: 4\n"
     ]
    },
    {
     "name": "stdout",
     "output_type": "stream",
     "text": [
      "The maximum sum of any 3 consecutive elements of this array: 26\n",
      "Length of the list is : 64\n"
     ]
    }
   ],
   "source": [
    "L=[2,4,6,1,3,7,4,6,9,3,6,8,3,6,4,1,3,9,6,4,5,6,8,3,7,3,6,8,6,4,1,3,9,6,4,5,6,6,4,1,3,9,6,4,5,6,6,4,1,3,9,6,4,5,6,6,4,1,3,9,6,4,5,6]\n",
    "#Find the maximum sum of any n consecutive elements of this array.\n",
    "Max =0\n",
    "n=int(input(\"Enter the consecutive number:\"))\n",
    "for i in range(0,len(L)-(n-1)):\n",
    "    s=0\n",
    "    for j in range (0,n):\n",
    "      s=s+L[i+j]\n",
    "    if Max<s:\n",
    "        Max=s\n",
    "         \n",
    "print(\"The maximum sum of any 3 consecutive elements of this array:\",Max)\n",
    "print(\"Length of the list is :\",len(L))"
   ]
  },
  {
   "cell_type": "code",
   "execution_count": 9,
   "id": "6802cad1-85dd-4dd8-ae3d-9be02b0aa124",
   "metadata": {},
   "outputs": [
    {
     "name": "stdin",
     "output_type": "stream",
     "text": [
      "Enter the consecutive number: 4\n"
     ]
    },
    {
     "name": "stdout",
     "output_type": "stream",
     "text": [
      "The maximum sum of consecutive elements of this array: 9\n",
      "Length of the list is : 64\n"
     ]
    }
   ],
   "source": [
    "L=[2,4,6,1,3,7,4,6,9,3,6,8,3,6,4,1,3,9,6,4,5,6,8,3,7,3,6,8,6,4,1,3,9,6,4,5,6,6,4,1,3,9,6,4,5,6,6,4,1,3,9,6,4,5,6,6,4,1,3,9,6,4,5,6]\n",
    "#Find the maximum sum of any n consecutive elements of this array.\n",
    "Max =0\n",
    "m=0\n",
    "n=int(input(\"Enter the consecutive number:\"))\n",
    "for i in range(0,len(L)-(n-1)):\n",
    "    s=0\n",
    "    s=s+L[m+i]\n",
    "    if Max<s:\n",
    "        Max=s\n",
    "         \n",
    "print(\"The maximum sum of consecutive elements of this array:\",Max)\n",
    "print(\"Length of the list is :\",len(L))"
   ]
  },
  {
   "cell_type": "code",
   "execution_count": 5,
   "id": "f1fa5594-5ddb-41eb-8671-0bac04d998ee",
   "metadata": {},
   "outputs": [
    {
     "name": "stdin",
     "output_type": "stream",
     "text": [
      "Enter the list elements 3 4 5 6 7 8 9\n",
      "Enter the number of consecutive elements 3\n"
     ]
    },
    {
     "ename": "TypeError",
     "evalue": "'int' object is not callable",
     "output_type": "error",
     "traceback": [
      "\u001b[1;31m---------------------------------------------------------------------------\u001b[0m",
      "\u001b[1;31mTypeError\u001b[0m                                 Traceback (most recent call last)",
      "Cell \u001b[1;32mIn[5], line 6\u001b[0m\n\u001b[0;32m      4\u001b[0m Sum\u001b[38;5;241m=\u001b[39m\u001b[38;5;241m0\u001b[39m\n\u001b[0;32m      5\u001b[0m \u001b[38;5;28;01mfor\u001b[39;00m x \u001b[38;5;129;01min\u001b[39;00m \u001b[38;5;28mrange\u001b[39m(\u001b[38;5;28mlen\u001b[39m(l)\u001b[38;5;241m-\u001b[39mc\u001b[38;5;241m+\u001b[39m\u001b[38;5;241m1\u001b[39m):\n\u001b[1;32m----> 6\u001b[0m     Sum\u001b[38;5;241m=\u001b[39m\u001b[43mSum\u001b[49m\u001b[43m(\u001b[49m\u001b[43ml\u001b[49m\u001b[43m[\u001b[49m\u001b[43m:\u001b[49m\u001b[43m:\u001b[49m\u001b[43mx\u001b[49m\u001b[38;5;241;43m+\u001b[39;49m\u001b[43mc\u001b[49m\u001b[43m]\u001b[49m\u001b[43m)\u001b[49m\n\u001b[0;32m      7\u001b[0m     \u001b[38;5;28;01mif\u001b[39;00m m\u001b[38;5;241m<\u001b[39mSum:\n\u001b[0;32m      8\u001b[0m         m\u001b[38;5;241m=\u001b[39mSum\n",
      "\u001b[1;31mTypeError\u001b[0m: 'int' object is not callable"
     ]
    }
   ],
   "source": [
    "l=[int(item) for item in input(\"Enter the list elements\").split()]\n",
    "c=int(input(\"Enter the number of consecutive elements\"))\n",
    "m=0\n",
    "Sum=0\n",
    "for x in range(len(l)-c+1):\n",
    "    Sum=Sum(l[::x+c])\n",
    "    if m<Sum:\n",
    "        m=Sum\n",
    "         \n",
    "print(\"The maximum sum of consecutive elements of this array:\",m)\n",
    "print(\"Length of the list is :\",len(l))\n",
    "    "
   ]
  },
  {
   "cell_type": "code",
   "execution_count": 1,
   "id": "696342aa-a21f-41e8-b7d7-446c0134e247",
   "metadata": {},
   "outputs": [
    {
     "name": "stdout",
     "output_type": "stream",
     "text": [
      "[1, 1, 2, 3, 3, 4, 5, 5, 5, 6, 9]\n"
     ]
    }
   ],
   "source": [
    "n = [3, 1, 4, 1, 5, 9, 2, 6, 5, 3, 5]\n",
    "for i in range(len(n)):\n",
    "        for j in range(len(n)-1):\n",
    "            if n[j] > n[j+1]:\n",
    "              n[j], n[j+1]=n[j+1],n[j]\n",
    "print(n)"
   ]
  }
 ],
 "metadata": {
  "kernelspec": {
   "display_name": "Python 3 (ipykernel)",
   "language": "python",
   "name": "python3"
  },
  "language_info": {
   "codemirror_mode": {
    "name": "ipython",
    "version": 3
   },
   "file_extension": ".py",
   "mimetype": "text/x-python",
   "name": "python",
   "nbconvert_exporter": "python",
   "pygments_lexer": "ipython3",
   "version": "3.12.3"
  }
 },
 "nbformat": 4,
 "nbformat_minor": 5
}
