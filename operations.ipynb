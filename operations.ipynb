{
 "cells": [
  {
   "cell_type": "code",
   "execution_count": 4,
   "id": "fc1b2295-bbad-4bce-a071-bf9f38dc01c4",
   "metadata": {},
   "outputs": [
    {
     "name": "stdin",
     "output_type": "stream",
     "text": [
      "Enter two numbers 2 4\n",
      "Enter operator:  +\n"
     ]
    },
    {
     "name": "stdout",
     "output_type": "stream",
     "text": [
      "6\n"
     ]
    }
   ],
   "source": [
    "#operation between two numbers\n",
    "a,b=input(\"Enter two numbers\").split()\n",
    "a=int(a)\n",
    "b=int(b)\n",
    "op=input(\"Enter operator: \")\n",
    "match op:\n",
    "    case '+':\n",
    "        print(a+b)\n",
    "    case '-':\n",
    "        print(a-b)\n",
    "    case '*':\n",
    "        print(a*b)\n",
    "    case '/':\n",
    "        print(a/b)\n",
    "    case '^':\n",
    "        print(a**b)\n",
    "    case '%':\n",
    "        print(a%b)\n",
    "    case _:\n",
    "        print(\"Invalid Operator\")"
   ]
  },
  {
   "cell_type": "code",
   "execution_count": 3,
   "id": "b8400132-ef88-461b-a978-62044ae27c17",
   "metadata": {},
   "outputs": [
    {
     "name": "stdin",
     "output_type": "stream",
     "text": [
      "Enter elements of list:  2 3 4 5 6 7 8 9\n"
     ]
    },
    {
     "name": "stdout",
     "output_type": "stream",
     "text": [
      "Sum of all even numbers = 20\n"
     ]
    }
   ],
   "source": [
    "#Sum of all even numbers in a list \n",
    "n=[int(item) for item in input(\"Enter elements of list: \").split()]\n",
    "Sum=0\n",
    "for i in n:\n",
    "    if i%2==0:\n",
    "        Sum+=i\n",
    "\n",
    "print('Sum of all even numbers =',Sum)"
   ]
  },
  {
   "cell_type": "code",
   "execution_count": null,
   "id": "745798e2-5df6-474a-972f-f58f2691d07b",
   "metadata": {},
   "outputs": [],
   "source": []
  }
 ],
 "metadata": {
  "kernelspec": {
   "display_name": "Python 3 (ipykernel)",
   "language": "python",
   "name": "python3"
  },
  "language_info": {
   "codemirror_mode": {
    "name": "ipython",
    "version": 3
   },
   "file_extension": ".py",
   "mimetype": "text/x-python",
   "name": "python",
   "nbconvert_exporter": "python",
   "pygments_lexer": "ipython3",
   "version": "3.12.3"
  }
 },
 "nbformat": 4,
 "nbformat_minor": 5
}
