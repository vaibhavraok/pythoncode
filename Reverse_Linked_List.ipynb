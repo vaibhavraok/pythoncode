{
  "nbformat": 4,
  "nbformat_minor": 0,
  "metadata": {
    "colab": {
      "provenance": [],
      "authorship_tag": "ABX9TyOGjNwIw/BnG3Vv2ktQJB4f",
      "include_colab_link": true
    },
    "kernelspec": {
      "name": "python3",
      "display_name": "Python 3"
    },
    "language_info": {
      "name": "python"
    }
  },
  "cells": [
    {
      "cell_type": "markdown",
      "metadata": {
        "id": "view-in-github",
        "colab_type": "text"
      },
      "source": [
        "<a href=\"https://colab.research.google.com/github/vaibhavraok/pythoncode/blob/main/Reverse_Linked_List.ipynb\" target=\"_parent\"><img src=\"https://colab.research.google.com/assets/colab-badge.svg\" alt=\"Open In Colab\"/></a>"
      ]
    },
    {
      "cell_type": "code",
      "execution_count": 2,
      "metadata": {
        "colab": {
          "base_uri": "https://localhost:8080/"
        },
        "id": "GihDl3ich-WL",
        "outputId": "80365427-ef7d-4aa6-f0b7-3cb93ffa0a1c"
      },
      "outputs": [
        {
          "output_type": "stream",
          "name": "stdout",
          "text": [
            "[5, 4, 3, 2, 1]\n"
          ]
        }
      ],
      "source": [
        "# Definition for singly-linked list.\n",
        "class ListNode:\n",
        "    def __init__(self, val=0, next=None):\n",
        "        self.val = val\n",
        "        self.next = next\n",
        "\n",
        "class Solution:\n",
        "    def reverseList(self, head: 'ListNode') -> 'ListNode':\n",
        "        prev = None\n",
        "        cur = head\n",
        "        while cur:\n",
        "            nxt = cur.next      # Save next node\n",
        "            cur.next = prev     # Reverse link\n",
        "            prev = cur          # Move prev forward\n",
        "            cur = nxt           # Move current forward\n",
        "        return prev\n",
        "\n",
        "\n",
        "# --- Helper functions for testing ---\n",
        "def build_linked_list(values):\n",
        "    \"\"\"Build linked list from Python list.\"\"\"\n",
        "    dummy = ListNode(0)\n",
        "    cur = dummy\n",
        "    for v in values:\n",
        "        cur.next = ListNode(v)\n",
        "        cur = cur.next\n",
        "    return dummy.next\n",
        "\n",
        "def linked_list_to_list(head):\n",
        "    \"\"\"Convert linked list back to Python list.\"\"\"\n",
        "    out = []\n",
        "    while head:\n",
        "        out.append(head.val)\n",
        "        head = head.next\n",
        "    return out\n",
        "\n",
        "\n",
        "# --- Example run ---\n",
        "if __name__ == \"__main__\":\n",
        "    # Input: 1 -> 2 -> 3 -> 4 -> 5\n",
        "    head = build_linked_list([1, 2, 3, 4, 5])\n",
        "\n",
        "    # Reverse\n",
        "    sol = Solution()\n",
        "    new_head = sol.reverseList(head)\n",
        "\n",
        "    # Output as list\n",
        "    print(linked_list_to_list(new_head))  # [5, 4, 3, 2, 1]\n",
        "\n"
      ]
    },
    {
      "cell_type": "code",
      "source": [],
      "metadata": {
        "id": "NUN9m9U-ioJp"
      },
      "execution_count": null,
      "outputs": []
    }
  ]
}