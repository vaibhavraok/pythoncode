{
 "cells": [
  {
   "cell_type": "code",
   "execution_count": 4,
   "id": "fe660905-cf09-4447-bb44-616fa220fd02",
   "metadata": {},
   "outputs": [
    {
     "name": "stdin",
     "output_type": "stream",
     "text": [
      "Enter Infix:  (a+b)*(a-b)\n"
     ]
    },
    {
     "name": "stdout",
     "output_type": "stream",
     "text": [
      "ab+ab-*\n"
     ]
    }
   ],
   "source": [
    "# Infix to postfix\n",
    "def precedence(x):\n",
    "    if x=='+' or x=='-':\n",
    "        return 1\n",
    "    elif x=='*' or x=='/' or x=='%':\n",
    "        return 2\n",
    "    elif x=='^':\n",
    "        return 3\n",
    "    elif x=='(' or x=='#':\n",
    "        return 0\n",
    "    else:\n",
    "        return -1\n",
    "\n",
    "def assoc(x):\n",
    "    if x=='^':\n",
    "        return 'R'\n",
    "    else:\n",
    "        return 'L'\n",
    "\n",
    "\n",
    "infix=input('Enter Infix: ')\n",
    "st=[]\n",
    "st.append('#')\n",
    "post=''\n",
    "for i in infix:\n",
    "    if i=='(':\n",
    "        st.append(i)\n",
    "    elif i=='+' or i=='-' or i=='*' or i=='/' or i=='^':\n",
    "        st.append(i)\n",
    "    elif i==')':\n",
    "        while st[-1]!='(':\n",
    "            post=post+st.pop()\n",
    "        st.pop()\n",
    "    elif i.isalnum():\n",
    "        post+=i\n",
    "    else:\n",
    "        while st and (precedence(st[-1])>precedence(i)) or ((precedence(i)==precedence(s[-1])) and assoc(i)=='L'):\n",
    "            post+=st.pop()\n",
    "        st.append(i)\n",
    "while st[-1]!='#':\n",
    "    post+=st.pop()\n",
    "print(post)"
   ]
  }
 ],
 "metadata": {
  "kernelspec": {
   "display_name": "Python 3 (ipykernel)",
   "language": "python",
   "name": "python3"
  },
  "language_info": {
   "codemirror_mode": {
    "name": "ipython",
    "version": 3
   },
   "file_extension": ".py",
   "mimetype": "text/x-python",
   "name": "python",
   "nbconvert_exporter": "python",
   "pygments_lexer": "ipython3",
   "version": "3.12.3"
  }
 },
 "nbformat": 4,
 "nbformat_minor": 5
}
