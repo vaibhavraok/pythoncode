{
 "cells": [
  {
   "cell_type": "code",
   "execution_count": 2,
   "id": "505b798f-c5af-43ca-8a46-c4d951559db7",
   "metadata": {},
   "outputs": [
    {
     "name": "stdout",
     "output_type": "stream",
     "text": [
      "1 --> 2 --> 3 --> 4 --> 5 -->\n"
     ]
    }
   ],
   "source": [
    "# creating a node\n",
    "class node:\n",
    "    def __init__(self, data):\n",
    "        self.data = data\n",
    "        self.next = None\n",
    "\n",
    "Head =node(1)\n",
    "Head.next=node(2)\n",
    "Head.next.next=node(3)\n",
    "Head.next.next.next=node(4)\n",
    "Head.next.next.next.next=node(5)            \n",
    "\n",
    "print(Head.data,\"-->\",Head.next.data,\"-->\",Head.next.next.data,\"-->\",Head.next.next.next.data,\"-->\",Head.next.next.next.next.data,\"-->\")\n"
   ]
  }
 ],
 "metadata": {
  "kernelspec": {
   "display_name": "Python 3 (ipykernel)",
   "language": "python",
   "name": "python3"
  },
  "language_info": {
   "codemirror_mode": {
    "name": "ipython",
    "version": 3
   },
   "file_extension": ".py",
   "mimetype": "text/x-python",
   "name": "python",
   "nbconvert_exporter": "python",
   "pygments_lexer": "ipython3",
   "version": "3.12.3"
  }
 },
 "nbformat": 4,
 "nbformat_minor": 5
}
