{
  "nbformat": 4,
  "nbformat_minor": 0,
  "metadata": {
    "colab": {
      "provenance": [],
      "authorship_tag": "ABX9TyMS9bKfYKDgufUU3c53fghD",
      "include_colab_link": true
    },
    "kernelspec": {
      "name": "python3",
      "display_name": "Python 3"
    },
    "language_info": {
      "name": "python"
    }
  },
  "cells": [
    {
      "cell_type": "markdown",
      "metadata": {
        "id": "view-in-github",
        "colab_type": "text"
      },
      "source": [
        "<a href=\"https://colab.research.google.com/github/vaibhavraok/pythoncode/blob/main/Maximum_Subarray.ipynb\" target=\"_parent\"><img src=\"https://colab.research.google.com/assets/colab-badge.svg\" alt=\"Open In Colab\"/></a>"
      ]
    },
    {
      "cell_type": "code",
      "execution_count": 1,
      "metadata": {
        "colab": {
          "base_uri": "https://localhost:8080/"
        },
        "id": "axn1xKVunh1c",
        "outputId": "4e5bb342-480a-4421-da0e-4b6d9998cbdc"
      },
      "outputs": [
        {
          "output_type": "stream",
          "name": "stdout",
          "text": [
            "6\n"
          ]
        }
      ],
      "source": [
        "def maxSubArray(nums):\n",
        "    curr_sum = max_sum = nums[0]\n",
        "    for num in nums[1:]:\n",
        "        curr_sum = max(num, curr_sum + num)\n",
        "        max_sum = max(max_sum, curr_sum)\n",
        "    return max_sum\n",
        "\n",
        "# Test\n",
        "print(maxSubArray([-2,1,-3,4,-1,2,1,-5,4]))  # 6\n"
      ]
    },
    {
      "cell_type": "code",
      "source": [
        "def climbStairs(n):\n",
        "    a, b = 1, 1\n",
        "    for _ in range(n):\n",
        "        a, b = b, a + b\n",
        "    return a\n",
        "\n",
        "# Test\n",
        "print(climbStairs(5))  # 8\n"
      ],
      "metadata": {
        "colab": {
          "base_uri": "https://localhost:8080/"
        },
        "id": "AhUDeFxmnyo8",
        "outputId": "44e5f2e1-3f68-46cb-a773-ab8bcb6026bc"
      },
      "execution_count": 2,
      "outputs": [
        {
          "output_type": "stream",
          "name": "stdout",
          "text": [
            "8\n"
          ]
        }
      ]
    },
    {
      "cell_type": "code",
      "source": [],
      "metadata": {
        "id": "p6-utdEyn4Fs"
      },
      "execution_count": null,
      "outputs": []
    }
  ]
}