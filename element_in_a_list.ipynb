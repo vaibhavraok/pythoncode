{
  "nbformat": 4,
  "nbformat_minor": 0,
  "metadata": {
    "colab": {
      "provenance": [],
      "authorship_tag": "ABX9TyM52vJg9c96UAoyl3PAcizd",
      "include_colab_link": true
    },
    "kernelspec": {
      "name": "python3",
      "display_name": "Python 3"
    },
    "language_info": {
      "name": "python"
    }
  },
  "cells": [
    {
      "cell_type": "markdown",
      "metadata": {
        "id": "view-in-github",
        "colab_type": "text"
      },
      "source": [
        "<a href=\"https://colab.research.google.com/github/vaibhavraok/pythoncode/blob/main/element_in_a_list.ipynb\" target=\"_parent\"><img src=\"https://colab.research.google.com/assets/colab-badge.svg\" alt=\"Open In Colab\"/></a>"
      ]
    },
    {
      "cell_type": "code",
      "execution_count": 1,
      "metadata": {
        "colab": {
          "base_uri": "https://localhost:8080/"
        },
        "id": "R7jOHGW2_CHz",
        "outputId": "c5506201-c426-48e7-ab67-95e2dc85cd69"
      },
      "outputs": [
        {
          "output_type": "stream",
          "name": "stdout",
          "text": [
            "Second largest element: 67\n"
          ]
        }
      ],
      "source": [
        "def second_largest(nums):\n",
        "    # Remove duplicates first\n",
        "    unique_nums = list(set(nums))\n",
        "\n",
        "    if len(unique_nums) < 2:\n",
        "        return \"List must contain at least two unique numbers\"\n",
        "\n",
        "    # Sort in descending order\n",
        "    unique_nums.sort(reverse=True)\n",
        "\n",
        "    # Second largest will be at index 1\n",
        "    return unique_nums[1]\n",
        "\n",
        "\n",
        "# Example usage:\n",
        "numbers = [12, 45, 1, 67, 45, 67, 23, 89, 34]\n",
        "print(\"Second largest element:\", second_largest(numbers))\n"
      ]
    },
    {
      "cell_type": "code",
      "source": [],
      "metadata": {
        "id": "dN0qDHSJ_LxG"
      },
      "execution_count": null,
      "outputs": []
    }
  ]
}