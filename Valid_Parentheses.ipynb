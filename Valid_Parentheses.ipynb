{
  "nbformat": 4,
  "nbformat_minor": 0,
  "metadata": {
    "colab": {
      "provenance": [],
      "authorship_tag": "ABX9TyM3QUx+Qx8EH3tPlBKD16oo",
      "include_colab_link": true
    },
    "kernelspec": {
      "name": "python3",
      "display_name": "Python 3"
    },
    "language_info": {
      "name": "python"
    }
  },
  "cells": [
    {
      "cell_type": "markdown",
      "metadata": {
        "id": "view-in-github",
        "colab_type": "text"
      },
      "source": [
        "<a href=\"https://colab.research.google.com/github/vaibhavraok/pythoncode/blob/main/Valid_Parentheses.ipynb\" target=\"_parent\"><img src=\"https://colab.research.google.com/assets/colab-badge.svg\" alt=\"Open In Colab\"/></a>"
      ]
    },
    {
      "cell_type": "code",
      "execution_count": 1,
      "metadata": {
        "colab": {
          "base_uri": "https://localhost:8080/"
        },
        "id": "Dp9sZNJHAkP0",
        "outputId": "b722b9ac-077a-401f-8fa0-95bcaaf98710"
      },
      "outputs": [
        {
          "output_type": "stream",
          "name": "stdout",
          "text": [
            "True\n"
          ]
        }
      ],
      "source": [
        "def is_valid(s: str) -> bool:\n",
        "    stack, mapping = [], {')':'(', '}':'{', ']':'['}\n",
        "    for ch in s:\n",
        "        if ch in mapping:\n",
        "            if not stack or stack[-1] != mapping[ch]:\n",
        "                return False\n",
        "            stack.pop()\n",
        "        else:\n",
        "            stack.append(ch)\n",
        "    return not stack\n",
        "\n",
        "if __name__ == \"__main__\":\n",
        "    print(is_valid(\"()[]{}\"))  # True\n"
      ]
    },
    {
      "cell_type": "code",
      "source": [],
      "metadata": {
        "id": "hMZKg2-ZBrTZ"
      },
      "execution_count": null,
      "outputs": []
    }
  ]
}